{
 "cells": [
  {
   "cell_type": "code",
   "execution_count": 2,
   "metadata": {},
   "outputs": [
    {
     "name": "stdout",
     "output_type": "stream",
     "text": [
      "      Q-BioLiP ID PDB ID Assembly ID   Stoichiometry  Resolution (Å)  \\\n",
      "96946   BL1647507   6ckl      6ckl_2  Homo 2-mer -A2           2.684   \n",
      "96947   BL1647508   6ckl      6ckl_2  Homo 2-mer -A2           2.684   \n",
      "96948   BL1647510   6ckl      6ckl_2  Homo 2-mer -A2           2.684   \n",
      "96949   BL1647511   6ckl      6ckl_2  Homo 2-mer -A2           2.684   \n",
      "\n",
      "      Uniprot ID      Assembly Detail Ligand ID  Site  Ligand Detail  \\\n",
      "96946     P0A0Z8  author and software       DAN  BS01  6ckl_2_DAN_K2   \n",
      "96947     P0A0Z8  author and software       C5P  BS02  6ckl_2_C5P_L1   \n",
      "96948     P0A0Z8  author and software       C5P  BS04  6ckl_2_C5P_L2   \n",
      "96949     P0A0Z8  author and software       DAN  BS05  6ckl_2_DAN_K1   \n",
      "\n",
      "      Pubmed ID Interaction Relevant  \\\n",
      "96946  31583886         yes      yes   \n",
      "96947  31583886         yes      yes   \n",
      "96948  31583886         yes      yes   \n",
      "96949  31583886         yes      yes   \n",
      "\n",
      "                                            Binding Site  \\\n",
      "96946  C1:K142 L161 E162 P164 R165 C2:S82 L102 Q104 N...   \n",
      "96947     C1:L10 A11 R12 N22 R71 A80 S82 Q104 P105 T106    \n",
      "96948     C2:L10 A11 R12 N22 R71 A80 S82 Q104 P105 T106    \n",
      "96949  C1:S82 L102 Q104 N175 G176 Y179 F192 C2:K142 L...   \n",
      "\n",
      "                                        Binding Site PDB BindingMOAD  \\\n",
      "96946  A:K142 L161 E162 P164 R165  B:S82 L102 Q104 N1...               \n",
      "96947     A:L10 A11 R12 N22 R71 A80 S82 Q104 P105 T106                 \n",
      "96948     B:L10 A11 R12 N22 R71 A80 S82 Q104 P105 T106                 \n",
      "96949  A:S82 L102 Q104 N175 G176 Y179 F192  B:K142 L1...               \n",
      "\n",
      "        PDBbind-CN BindingDB  \n",
      "96946   IC50=130uM            \n",
      "96947                         \n",
      "96948                         \n",
      "96949   IC50=130uM            \n"
     ]
    }
   ],
   "source": [
    "import pandas as pd\n",
    "\n",
    "# Read the CSV file\n",
    "df = pd.read_csv('Nonredund_stru_annotations.csv')\n",
    "\n",
    "# Filter rows with PDB ID column as \"6ckl\"\n",
    "filtered_df = df[df['PDB ID'] == '6ckl']\n",
    "\n",
    "# Output the filtered rows\n",
    "print(filtered_df)\n"
   ]
  },
  {
   "cell_type": "code",
   "execution_count": 6,
   "metadata": {},
   "outputs": [
    {
     "name": "stderr",
     "output_type": "stream",
     "text": [
      "/tmp/ipykernel_23365/3537616181.py:4: DtypeWarning: Columns (4) have mixed types. Specify dtype option on import or set low_memory=False.\n",
      "  df = pd.read_csv('Q-BioLiP_all.csv')\n"
     ]
    },
    {
     "name": "stdout",
     "output_type": "stream",
     "text": [
      "1647499     6ckl_1_DAN_F\n",
      "1647500     6ckl_1_FLC_H\n",
      "1647501     6ckl_1_C5P_D\n",
      "1647502     6ckl_1_DAN_G\n",
      "1647503      6ckl_1_CL_J\n",
      "1647504      6ckl_1_CL_E\n",
      "1647505     6ckl_1_C5P_I\n",
      "1647506    6ckl_2_DAN_K2\n",
      "1647507    6ckl_2_C5P_L1\n",
      "1647508    6ckl_2_FLC_M2\n",
      "1647509    6ckl_2_C5P_L2\n",
      "1647510    6ckl_2_DAN_K1\n",
      "1647511     6ckl_2_CL_N1\n",
      "1647512     6ckl_2_CL_N2\n",
      "1647513    6ckl_2_FLC_M1\n",
      "Name: Ligand Detail, dtype: object\n"
     ]
    }
   ],
   "source": [
    "import pandas as pd\n",
    "\n",
    "# Read the CSV file\n",
    "df = pd.read_csv('Q-BioLiP_all.csv')\n",
    "\n",
    "# Filter rows with PDB ID column as \"6ckl\"\n",
    "filtered_df = df[df['PDB ID'] == '6ckl']\n",
    "\n",
    "# Output the filtered rows\n",
    "print(filtered_df['Ligand Detail'])\n"
   ]
  },
  {
   "cell_type": "code",
   "execution_count": 3,
   "metadata": {},
   "outputs": [],
   "source": [
    "file = '/home/t-kaiyuangao/Workspace/DynamicBind/PDBBindData/lig_pdb/1uys_1_H1L_D2.pdb'"
   ]
  },
  {
   "cell_type": "code",
   "execution_count": 2,
   "metadata": {},
   "outputs": [],
   "source": [
    "from openbabel.pybel import (readfile,Outputfile) \n",
    "def MolFormatConversion(input_file:str,output_file:str,input_format=\"pdb\",output_format=\"mol2\"):\n",
    "    molecules = readfile(input_format,input_file)\n",
    "    output_file_writer = Outputfile(output_format,output_file)\n",
    "    for i,molecule in enumerate(molecules):\n",
    "        output_file_writer.write(molecule)\n",
    "    output_file_writer.close()\n",
    "    print('%d molecules converted'%(i+1))"
   ]
  },
  {
   "cell_type": "code",
   "execution_count": 5,
   "metadata": {},
   "outputs": [
    {
     "name": "stdout",
     "output_type": "stream",
     "text": [
      "1 molecules converted\n"
     ]
    }
   ],
   "source": [
    "output_file = '/home/t-kaiyuangao/Workspace/DynamicBind/PDBBindData/test.mol2'\n",
    "MolFormatConversion(file,output_file)"
   ]
  },
  {
   "cell_type": "code",
   "execution_count": 6,
   "metadata": {},
   "outputs": [
    {
     "data": {
      "image/png": "[encoded data removed]",
      "text/plain": [
       "<rdkit.Chem.rdchem.Mol at 0x7fe6181dc5e0>"
      ]
     },
     "execution_count": 6,
     "metadata": {},
     "output_type": "execute_result"
    }
   ],
   "source": [
    "from rdkit import Chem\n",
    "\n",
    "mol = Chem.MolFromPDBFile('/home/t-kaiyuangao/Workspace/DynamicBind/PDBBindData/lig_pdb/3ppj_1_FOI_C.pdb')\n",
    "\n",
    "ligand"
   ]
  },
  {
   "cell_type": "code",
   "execution_count": 31,
   "metadata": {},
   "outputs": [
    {
     "data": {
      "text/plain": [
       "array([[ 2.456, 13.473, 27.658],\n",
       "       [ 3.233, 12.516, 26.819],\n",
       "       [ 2.917, 12.695, 25.339],\n",
       "       ...,\n",
       "       [ 9.824, 69.795,  9.65 ],\n",
       "       [ 6.935, 70.072, 11.217],\n",
       "       [ 8.405, 69.973, 11.433]], dtype=float32)"
      ]
     },
     "execution_count": 31,
     "metadata": {},
     "output_type": "execute_result"
    }
   ],
   "source": [
    "from Bio.PDB import PDBParser\n",
    "protein_path = '/home/t-kaiyuangao/Workspace/DynamicBind/PDBBindData/PDBBind_Qbio/2a5b/2a5b_protein.pdb'\n",
    "ligand_path = '/home/t-kaiyuangao/Workspace/DynamicBind/PDBBindData/PDBBind_Qbio/2a5b/2a5b_1_8HG_D2.pdb'\n",
    "ligand = Chem.MolFromPDBFile(ligand_path)\n",
    "np.array(ligand.GetConformer(0).GetPositions())\n",
    "# Parse the PDB file\n",
    "parser = PDBParser()\n",
    "structure = parser.get_structure('protein', protein_path)\n",
    "\n",
    "# Get the coordinates of each amino acid\n",
    "coordinates = []\n",
    "for model in structure:\n",
    "    for chain in model:\n",
    "        for residue in chain:\n",
    "            for atom in residue:\n",
    "                coordinates.append(atom.get_coord())\n",
    "\n",
    "# Print the coordinates\n",
    "# for coord in coordinates:\n",
    "#     print(coord)\n",
    "np.array(coordinates)"
   ]
  },
  {
   "cell_type": "code",
   "execution_count": 30,
   "metadata": {},
   "outputs": [
    {
     "data": {
      "text/plain": [
       "array([[ 3.4500e-01,  5.1691e+01,  4.0000e-03],\n",
       "       [-5.2100e-01,  5.1186e+01, -7.5000e-01],\n",
       "       [-1.3440e+00,  5.0272e+01, -2.3000e-01],\n",
       "       [-2.2870e+00,  4.9715e+01, -9.9100e-01],\n",
       "       [-3.1170e+00,  4.8816e+01, -5.1300e-01],\n",
       "       [-2.4710e+00,  5.0010e+01, -2.2760e+00],\n",
       "       [-1.6670e+00,  5.0924e+01, -2.8590e+00],\n",
       "       [-6.5400e-01,  5.1550e+01, -2.1040e+00],\n",
       "       [-8.0000e-03,  5.2412e+01, -2.9350e+00],\n",
       "       [-6.3500e-01,  5.2268e+01, -4.1130e+00],\n",
       "       [-2.8800e-01,  5.2921e+01, -5.1640e+00],\n",
       "       [-1.6470e+00,  5.1382e+01, -4.1100e+00],\n",
       "       [-2.5440e+00,  5.0985e+01, -5.2430e+00],\n",
       "       [-3.7330e+00,  5.0203e+01, -4.9760e+00],\n",
       "       [-1.7440e+00,  5.0138e+01, -6.2270e+00],\n",
       "       [-2.7820e+00,  4.9276e+01, -6.9160e+00],\n",
       "       [-2.6750e+00,  4.9605e+01, -8.3030e+00],\n",
       "       [-4.1000e+00,  4.9726e+01, -6.2810e+00],\n",
       "       [-5.1850e+00,  4.8669e+01, -6.3070e+00],\n",
       "       [-4.7560e+00,  4.7587e+01, -7.1520e+00]])"
      ]
     },
     "execution_count": 30,
     "metadata": {},
     "output_type": "execute_result"
    }
   ],
   "source": [
    "np.array(ligand.GetConformer(0).GetPositions())"
   ]
  },
  {
   "cell_type": "code",
   "execution_count": 22,
   "metadata": {},
   "outputs": [],
   "source": [
    "mol_c = Chem.RemoveHs(mol_c)"
   ]
  },
  {
   "cell_type": "code",
   "execution_count": 23,
   "metadata": {},
   "outputs": [
    {
     "data": {
      "image/png": "[encoded data removed]",
      "text/plain": [
       "<rdkit.Chem.rdchem.Mol at 0x7fe5d1ed6ac0>"
      ]
     },
     "execution_count": 23,
     "metadata": {},
     "output_type": "execute_result"
    }
   ],
   "source": [
    "mol_c"
   ]
  },
  {
   "cell_type": "code",
   "execution_count": 25,
   "metadata": {},
   "outputs": [
    {
     "data": {
      "text/plain": [
       "array([[ 3.4500e-01,  5.1691e+01,  4.0000e-03],\n",
       "       [-5.2100e-01,  5.1186e+01, -7.5000e-01],\n",
       "       [-1.3440e+00,  5.0272e+01, -2.3000e-01],\n",
       "       [-2.2870e+00,  4.9715e+01, -9.9100e-01],\n",
       "       [-3.1170e+00,  4.8816e+01, -5.1300e-01],\n",
       "       [-2.4710e+00,  5.0010e+01, -2.2760e+00],\n",
       "       [-1.6670e+00,  5.0924e+01, -2.8590e+00],\n",
       "       [-6.5400e-01,  5.1550e+01, -2.1040e+00],\n",
       "       [-8.0000e-03,  5.2412e+01, -2.9350e+00],\n",
       "       [-6.3500e-01,  5.2268e+01, -4.1130e+00],\n",
       "       [-2.8800e-01,  5.2921e+01, -5.1640e+00],\n",
       "       [-1.6470e+00,  5.1382e+01, -4.1100e+00],\n",
       "       [-2.5440e+00,  5.0985e+01, -5.2430e+00],\n",
       "       [-3.7330e+00,  5.0203e+01, -4.9760e+00],\n",
       "       [-1.7440e+00,  5.0138e+01, -6.2270e+00],\n",
       "       [-2.7820e+00,  4.9276e+01, -6.9160e+00],\n",
       "       [-2.6750e+00,  4.9605e+01, -8.3030e+00],\n",
       "       [-4.1000e+00,  4.9726e+01, -6.2810e+00],\n",
       "       [-5.1850e+00,  4.8669e+01, -6.3070e+00],\n",
       "       [-4.7560e+00,  4.7587e+01, -7.1520e+00]])"
      ]
     },
     "execution_count": 25,
     "metadata": {},
     "output_type": "execute_result"
    }
   ],
   "source": [
    "coord = np.array(mol_c.GetConformer(0).GetPositions())\n",
    "coord"
   ]
  },
  {
   "cell_type": "code",
   "execution_count": 15,
   "metadata": {},
   "outputs": [
    {
     "ename": "ArgumentError",
     "evalue": "Python argument types in\n    Conformer.GetAtomPosition(Conformer, Atom)\ndid not match C++ signature:\n    GetAtomPosition(RDKit::Conformer const*, unsigned int)",
     "output_type": "error",
     "traceback": [
      "\u001b[0;31m---------------------------------------------------------------------------\u001b[0m",
      "\u001b[0;31mArgumentError\u001b[0m                             Traceback (most recent call last)",
      "Cell \u001b[0;32mIn[15], line 2\u001b[0m\n\u001b[1;32m      1\u001b[0m \u001b[38;5;28;01mimport\u001b[39;00m \u001b[38;5;21;01mnumpy\u001b[39;00m \u001b[38;5;28;01mas\u001b[39;00m \u001b[38;5;21;01mnp\u001b[39;00m\n\u001b[0;32m----> 2\u001b[0m ligand_coords \u001b[38;5;241m=\u001b[39m np\u001b[38;5;241m.\u001b[39marray([conf\u001b[38;5;241m.\u001b[39mGetAtomPosition(atom) \u001b[38;5;28;01mfor\u001b[39;00m atom \u001b[38;5;129;01min\u001b[39;00m ligand\u001b[38;5;241m.\u001b[39mGetAtoms()])\n",
      "Cell \u001b[0;32mIn[15], line 2\u001b[0m, in \u001b[0;36m<listcomp>\u001b[0;34m(.0)\u001b[0m\n\u001b[1;32m      1\u001b[0m \u001b[38;5;28;01mimport\u001b[39;00m \u001b[38;5;21;01mnumpy\u001b[39;00m \u001b[38;5;28;01mas\u001b[39;00m \u001b[38;5;21;01mnp\u001b[39;00m\n\u001b[0;32m----> 2\u001b[0m ligand_coords \u001b[38;5;241m=\u001b[39m np\u001b[38;5;241m.\u001b[39marray([\u001b[43mconf\u001b[49m\u001b[38;5;241;43m.\u001b[39;49m\u001b[43mGetAtomPosition\u001b[49m\u001b[43m(\u001b[49m\u001b[43matom\u001b[49m\u001b[43m)\u001b[49m \u001b[38;5;28;01mfor\u001b[39;00m atom \u001b[38;5;129;01min\u001b[39;00m ligand\u001b[38;5;241m.\u001b[39mGetAtoms()])\n",
      "\u001b[0;31mArgumentError\u001b[0m: Python argument types in\n    Conformer.GetAtomPosition(Conformer, Atom)\ndid not match C++ signature:\n    GetAtomPosition(RDKit::Conformer const*, unsigned int)"
     ]
    }
   ],
   "source": [
    "import numpy as np\n",
    "ligand_coords = np.array([conf.GetAtomPosition(atom) for atom in ligand.GetAtoms()])\n",
    "# protein_coords = np.array([atom.GetPosition() for atom in protein.GetAtoms()])"
   ]
  },
  {
   "cell_type": "code",
   "execution_count": 40,
   "metadata": {},
   "outputs": [],
   "source": [
    "from Qbio_dataset import calculate_distance\n",
    "\n",
    "protein_path = '/home/t-kaiyuangao/Workspace/DynamicBind/PDBBindData/PDBBind_Qbio/1fd7/1fd7_protein.pdb'\n",
    "ligand_path = '/home/t-kaiyuangao/Workspace/DynamicBind/PDBBindData/PDBBind_Qbio/3gxz/3gxz_1_kmer_C.pdb'\n",
    "\n",
    "ligand = Chem.MolFromPDBFile(ligand_path)\n",
    "\n",
    "# calculate_distance(ligand_path,protein_path)"
   ]
  },
  {
   "cell_type": "code",
   "execution_count": 41,
   "metadata": {},
   "outputs": [
    {
     "data": {
      "image/png": "[encoded data removed]",
      "text/plain": [
       "<rdkit.Chem.rdchem.Mol at 0x7fe5d1dbd040>"
      ]
     },
     "execution_count": 41,
     "metadata": {},
     "output_type": "execute_result"
    }
   ],
   "source": [
    "ligand"
   ]
  },
  {
   "cell_type": "code",
   "execution_count": 50,
   "metadata": {},
   "outputs": [
    {
     "data": {
      "text/plain": [
       "0.0030859354568753597"
      ]
     },
     "execution_count": 50,
     "metadata": {},
     "output_type": "execute_result"
    }
   ],
   "source": [
    "import os\n",
    "\n",
    "folder_path = '/home/t-kaiyuangao/Workspace/DynamicBind/PDBBindData/PDBBind_Qbio'\n",
    "folders = os.listdir(folder_path)\n",
    "\n",
    "total_folders = 0\n",
    "folders_with_more_than_2_files = 0\n",
    "\n",
    "for folder in folders:\n",
    "    folder_full_path = os.path.join(folder_path, folder)\n",
    "    if os.path.isdir(folder_full_path):\n",
    "        total_folders += 1\n",
    "        files = os.listdir(folder_full_path)\n",
    "        if len(files) < 1:\n",
    "            folders_with_more_than_2_files += 1\n",
    "\n",
    "proportion = folders_with_more_than_2_files / total_folders\n",
    "\n",
    "proportion\n"
   ]
  },
  {
   "cell_type": "code",
   "execution_count": null,
   "metadata": {},
   "outputs": [],
   "source": []
  },
  {
   "cell_type": "code",
   "execution_count": 45,
   "metadata": {},
   "outputs": [],
   "source": [
    "import pandas as pd\n",
    "df_all=pd.read_csv('Qbio_dataset_aft.csv')"
   ]
  },
  {
   "cell_type": "code",
   "execution_count": 49,
   "metadata": {},
   "outputs": [
    {
     "name": "stdout",
     "output_type": "stream",
     "text": [
      "0.2857591787566124\n"
     ]
    }
   ],
   "source": [
    "dic = {}\n",
    "for idx, row in df_all.iterrows():\n",
    "    if row['PDB'] not in dic:\n",
    "        dic[row['PDB']] = 1\n",
    "    else :\n",
    "        dic[row['PDB']] += 1\n",
    "tot = 0\n",
    "for key in dic:\n",
    "    if dic[key] > 1:\n",
    "        tot += 1\n",
    "print(tot / len(dic))"
   ]
  },
  {
   "cell_type": "code",
   "execution_count": 2,
   "metadata": {},
   "outputs": [
    {
     "name": "stderr",
     "output_type": "stream",
     "text": [
      "/tmp/ipykernel_32402/4082243977.py:39: FutureWarning: The frame.append method is deprecated and will be removed from pandas in a future version. Use pandas.concat instead.\n",
      "  df_all = df_all.append({'PDB': folder, 'PDB_file': f'{folder_full_path}/{folder}_protein_processed.pdb',\n",
      "/tmp/ipykernel_32402/4082243977.py:39: FutureWarning: The frame.append method is deprecated and will be removed from pandas in a future version. Use pandas.concat instead.\n",
      "  df_all = df_all.append({'PDB': folder, 'PDB_file': f'{folder_full_path}/{folder}_protein_processed.pdb',\n",
      "/tmp/ipykernel_32402/4082243977.py:39: FutureWarning: The frame.append method is deprecated and will be removed from pandas in a future version. Use pandas.concat instead.\n",
      "  df_all = df_all.append({'PDB': folder, 'PDB_file': f'{folder_full_path}/{folder}_protein_processed.pdb',\n",
      "/tmp/ipykernel_32402/4082243977.py:39: FutureWarning: The frame.append method is deprecated and will be removed from pandas in a future version. Use pandas.concat instead.\n",
      "  df_all = df_all.append({'PDB': folder, 'PDB_file': f'{folder_full_path}/{folder}_protein_processed.pdb',\n",
      "/tmp/ipykernel_32402/4082243977.py:39: FutureWarning: The frame.append method is deprecated and will be removed from pandas in a future version. Use pandas.concat instead.\n",
      "  df_all = df_all.append({'PDB': folder, 'PDB_file': f'{folder_full_path}/{folder}_protein_processed.pdb',\n",
      "/tmp/ipykernel_32402/4082243977.py:39: FutureWarning: The frame.append method is deprecated and will be removed from pandas in a future version. Use pandas.concat instead.\n",
      "  df_all = df_all.append({'PDB': folder, 'PDB_file': f'{folder_full_path}/{folder}_protein_processed.pdb',\n",
      "/tmp/ipykernel_32402/4082243977.py:39: FutureWarning: The frame.append method is deprecated and will be removed from pandas in a future version. Use pandas.concat instead.\n",
      "  df_all = df_all.append({'PDB': folder, 'PDB_file': f'{folder_full_path}/{folder}_protein_processed.pdb',\n",
      "/tmp/ipykernel_32402/4082243977.py:39: FutureWarning: The frame.append method is deprecated and will be removed from pandas in a future version. Use pandas.concat instead.\n",
      "  df_all = df_all.append({'PDB': folder, 'PDB_file': f'{folder_full_path}/{folder}_protein_processed.pdb',\n",
      "/tmp/ipykernel_32402/4082243977.py:39: FutureWarning: The frame.append method is deprecated and will be removed from pandas in a future version. Use pandas.concat instead.\n",
      "  df_all = df_all.append({'PDB': folder, 'PDB_file': f'{folder_full_path}/{folder}_protein_processed.pdb',\n",
      "/tmp/ipykernel_32402/4082243977.py:39: FutureWarning: The frame.append method is deprecated and will be removed from pandas in a future version. Use pandas.concat instead.\n",
      "  df_all = df_all.append({'PDB': folder, 'PDB_file': f'{folder_full_path}/{folder}_protein_processed.pdb',\n",
      "/tmp/ipykernel_32402/4082243977.py:39: FutureWarning: The frame.append method is deprecated and will be removed from pandas in a future version. Use pandas.concat instead.\n",
      "  df_all = df_all.append({'PDB': folder, 'PDB_file': f'{folder_full_path}/{folder}_protein_processed.pdb',\n",
      "/tmp/ipykernel_32402/4082243977.py:39: FutureWarning: The frame.append method is deprecated and will be removed from pandas in a future version. Use pandas.concat instead.\n",
      "  df_all = df_all.append({'PDB': folder, 'PDB_file': f'{folder_full_path}/{folder}_protein_processed.pdb',\n",
      "/tmp/ipykernel_32402/4082243977.py:39: FutureWarning: The frame.append method is deprecated and will be removed from pandas in a future version. Use pandas.concat instead.\n",
      "  df_all = df_all.append({'PDB': folder, 'PDB_file': f'{folder_full_path}/{folder}_protein_processed.pdb',\n",
      "/tmp/ipykernel_32402/4082243977.py:39: FutureWarning: The frame.append method is deprecated and will be removed from pandas in a future version. Use pandas.concat instead.\n",
      "  df_all = df_all.append({'PDB': folder, 'PDB_file': f'{folder_full_path}/{folder}_protein_processed.pdb',\n",
      "/tmp/ipykernel_32402/4082243977.py:39: FutureWarning: The frame.append method is deprecated and will be removed from pandas in a future version. Use pandas.concat instead.\n",
      "  df_all = df_all.append({'PDB': folder, 'PDB_file': f'{folder_full_path}/{folder}_protein_processed.pdb',\n",
      "/tmp/ipykernel_32402/4082243977.py:39: FutureWarning: The frame.append method is deprecated and will be removed from pandas in a future version. Use pandas.concat instead.\n",
      "  df_all = df_all.append({'PDB': folder, 'PDB_file': f'{folder_full_path}/{folder}_protein_processed.pdb',\n",
      "/tmp/ipykernel_32402/4082243977.py:39: FutureWarning: The frame.append method is deprecated and will be removed from pandas in a future version. Use pandas.concat instead.\n",
      "  df_all = df_all.append({'PDB': folder, 'PDB_file': f'{folder_full_path}/{folder}_protein_processed.pdb',\n",
      "/tmp/ipykernel_32402/4082243977.py:39: FutureWarning: The frame.append method is deprecated and will be removed from pandas in a future version. Use pandas.concat instead.\n",
      "  df_all = df_all.append({'PDB': folder, 'PDB_file': f'{folder_full_path}/{folder}_protein_processed.pdb',\n",
      "/tmp/ipykernel_32402/4082243977.py:39: FutureWarning: The frame.append method is deprecated and will be removed from pandas in a future version. Use pandas.concat instead.\n",
      "  df_all = df_all.append({'PDB': folder, 'PDB_file': f'{folder_full_path}/{folder}_protein_processed.pdb',\n",
      "/tmp/ipykernel_32402/4082243977.py:39: FutureWarning: The frame.append method is deprecated and will be removed from pandas in a future version. Use pandas.concat instead.\n",
      "  df_all = df_all.append({'PDB': folder, 'PDB_file': f'{folder_full_path}/{folder}_protein_processed.pdb',\n",
      "/tmp/ipykernel_32402/4082243977.py:39: FutureWarning: The frame.append method is deprecated and will be removed from pandas in a future version. Use pandas.concat instead.\n",
      "  df_all = df_all.append({'PDB': folder, 'PDB_file': f'{folder_full_path}/{folder}_protein_processed.pdb',\n",
      "/tmp/ipykernel_32402/4082243977.py:39: FutureWarning: The frame.append method is deprecated and will be removed from pandas in a future version. Use pandas.concat instead.\n",
      "  df_all = df_all.append({'PDB': folder, 'PDB_file': f'{folder_full_path}/{folder}_protein_processed.pdb',\n",
      "/tmp/ipykernel_32402/4082243977.py:39: FutureWarning: The frame.append method is deprecated and will be removed from pandas in a future version. Use pandas.concat instead.\n",
      "  df_all = df_all.append({'PDB': folder, 'PDB_file': f'{folder_full_path}/{folder}_protein_processed.pdb',\n",
      "/tmp/ipykernel_32402/4082243977.py:39: FutureWarning: The frame.append method is deprecated and will be removed from pandas in a future version. Use pandas.concat instead.\n",
      "  df_all = df_all.append({'PDB': folder, 'PDB_file': f'{folder_full_path}/{folder}_protein_processed.pdb',\n",
      "/tmp/ipykernel_32402/4082243977.py:39: FutureWarning: The frame.append method is deprecated and will be removed from pandas in a future version. Use pandas.concat instead.\n",
      "  df_all = df_all.append({'PDB': folder, 'PDB_file': f'{folder_full_path}/{folder}_protein_processed.pdb',\n",
      "/tmp/ipykernel_32402/4082243977.py:39: FutureWarning: The frame.append method is deprecated and will be removed from pandas in a future version. Use pandas.concat instead.\n",
      "  df_all = df_all.append({'PDB': folder, 'PDB_file': f'{folder_full_path}/{folder}_protein_processed.pdb',\n",
      "/tmp/ipykernel_32402/4082243977.py:39: FutureWarning: The frame.append method is deprecated and will be removed from pandas in a future version. Use pandas.concat instead.\n",
      "  df_all = df_all.append({'PDB': folder, 'PDB_file': f'{folder_full_path}/{folder}_protein_processed.pdb',\n",
      "/tmp/ipykernel_32402/4082243977.py:39: FutureWarning: The frame.append method is deprecated and will be removed from pandas in a future version. Use pandas.concat instead.\n",
      "  df_all = df_all.append({'PDB': folder, 'PDB_file': f'{folder_full_path}/{folder}_protein_processed.pdb',\n",
      "/tmp/ipykernel_32402/4082243977.py:39: FutureWarning: The frame.append method is deprecated and will be removed from pandas in a future version. Use pandas.concat instead.\n",
      "  df_all = df_all.append({'PDB': folder, 'PDB_file': f'{folder_full_path}/{folder}_protein_processed.pdb',\n",
      "/tmp/ipykernel_32402/4082243977.py:39: FutureWarning: The frame.append method is deprecated and will be removed from pandas in a future version. Use pandas.concat instead.\n",
      "  df_all = df_all.append({'PDB': folder, 'PDB_file': f'{folder_full_path}/{folder}_protein_processed.pdb',\n",
      "/tmp/ipykernel_32402/4082243977.py:39: FutureWarning: The frame.append method is deprecated and will be removed from pandas in a future version. Use pandas.concat instead.\n",
      "  df_all = df_all.append({'PDB': folder, 'PDB_file': f'{folder_full_path}/{folder}_protein_processed.pdb',\n",
      "/tmp/ipykernel_32402/4082243977.py:39: FutureWarning: The frame.append method is deprecated and will be removed from pandas in a future version. Use pandas.concat instead.\n",
      "  df_all = df_all.append({'PDB': folder, 'PDB_file': f'{folder_full_path}/{folder}_protein_processed.pdb',\n",
      "/tmp/ipykernel_32402/4082243977.py:39: FutureWarning: The frame.append method is deprecated and will be removed from pandas in a future version. Use pandas.concat instead.\n",
      "  df_all = df_all.append({'PDB': folder, 'PDB_file': f'{folder_full_path}/{folder}_protein_processed.pdb',\n",
      "/tmp/ipykernel_32402/4082243977.py:39: FutureWarning: The frame.append method is deprecated and will be removed from pandas in a future version. Use pandas.concat instead.\n",
      "  df_all = df_all.append({'PDB': folder, 'PDB_file': f'{folder_full_path}/{folder}_protein_processed.pdb',\n",
      "/tmp/ipykernel_32402/4082243977.py:39: FutureWarning: The frame.append method is deprecated and will be removed from pandas in a future version. Use pandas.concat instead.\n",
      "  df_all = df_all.append({'PDB': folder, 'PDB_file': f'{folder_full_path}/{folder}_protein_processed.pdb',\n",
      "/tmp/ipykernel_32402/4082243977.py:39: FutureWarning: The frame.append method is deprecated and will be removed from pandas in a future version. Use pandas.concat instead.\n",
      "  df_all = df_all.append({'PDB': folder, 'PDB_file': f'{folder_full_path}/{folder}_protein_processed.pdb',\n",
      "/tmp/ipykernel_32402/4082243977.py:39: FutureWarning: The frame.append method is deprecated and will be removed from pandas in a future version. Use pandas.concat instead.\n",
      "  df_all = df_all.append({'PDB': folder, 'PDB_file': f'{folder_full_path}/{folder}_protein_processed.pdb',\n",
      "/tmp/ipykernel_32402/4082243977.py:39: FutureWarning: The frame.append method is deprecated and will be removed from pandas in a future version. Use pandas.concat instead.\n",
      "  df_all = df_all.append({'PDB': folder, 'PDB_file': f'{folder_full_path}/{folder}_protein_processed.pdb',\n",
      "/tmp/ipykernel_32402/4082243977.py:39: FutureWarning: The frame.append method is deprecated and will be removed from pandas in a future version. Use pandas.concat instead.\n",
      "  df_all = df_all.append({'PDB': folder, 'PDB_file': f'{folder_full_path}/{folder}_protein_processed.pdb',\n",
      "/tmp/ipykernel_32402/4082243977.py:39: FutureWarning: The frame.append method is deprecated and will be removed from pandas in a future version. Use pandas.concat instead.\n",
      "  df_all = df_all.append({'PDB': folder, 'PDB_file': f'{folder_full_path}/{folder}_protein_processed.pdb',\n",
      "/tmp/ipykernel_32402/4082243977.py:39: FutureWarning: The frame.append method is deprecated and will be removed from pandas in a future version. Use pandas.concat instead.\n",
      "  df_all = df_all.append({'PDB': folder, 'PDB_file': f'{folder_full_path}/{folder}_protein_processed.pdb',\n",
      "/tmp/ipykernel_32402/4082243977.py:39: FutureWarning: The frame.append method is deprecated and will be removed from pandas in a future version. Use pandas.concat instead.\n",
      "  df_all = df_all.append({'PDB': folder, 'PDB_file': f'{folder_full_path}/{folder}_protein_processed.pdb',\n",
      "/tmp/ipykernel_32402/4082243977.py:39: FutureWarning: The frame.append method is deprecated and will be removed from pandas in a future version. Use pandas.concat instead.\n",
      "  df_all = df_all.append({'PDB': folder, 'PDB_file': f'{folder_full_path}/{folder}_protein_processed.pdb',\n",
      "/tmp/ipykernel_32402/4082243977.py:39: FutureWarning: The frame.append method is deprecated and will be removed from pandas in a future version. Use pandas.concat instead.\n",
      "  df_all = df_all.append({'PDB': folder, 'PDB_file': f'{folder_full_path}/{folder}_protein_processed.pdb',\n",
      "/tmp/ipykernel_32402/4082243977.py:39: FutureWarning: The frame.append method is deprecated and will be removed from pandas in a future version. Use pandas.concat instead.\n",
      "  df_all = df_all.append({'PDB': folder, 'PDB_file': f'{folder_full_path}/{folder}_protein_processed.pdb',\n",
      "/tmp/ipykernel_32402/4082243977.py:39: FutureWarning: The frame.append method is deprecated and will be removed from pandas in a future version. Use pandas.concat instead.\n",
      "  df_all = df_all.append({'PDB': folder, 'PDB_file': f'{folder_full_path}/{folder}_protein_processed.pdb',\n",
      "/tmp/ipykernel_32402/4082243977.py:39: FutureWarning: The frame.append method is deprecated and will be removed from pandas in a future version. Use pandas.concat instead.\n",
      "  df_all = df_all.append({'PDB': folder, 'PDB_file': f'{folder_full_path}/{folder}_protein_processed.pdb',\n",
      "/tmp/ipykernel_32402/4082243977.py:39: FutureWarning: The frame.append method is deprecated and will be removed from pandas in a future version. Use pandas.concat instead.\n",
      "  df_all = df_all.append({'PDB': folder, 'PDB_file': f'{folder_full_path}/{folder}_protein_processed.pdb',\n",
      "/tmp/ipykernel_32402/4082243977.py:39: FutureWarning: The frame.append method is deprecated and will be removed from pandas in a future version. Use pandas.concat instead.\n",
      "  df_all = df_all.append({'PDB': folder, 'PDB_file': f'{folder_full_path}/{folder}_protein_processed.pdb',\n",
      "/tmp/ipykernel_32402/4082243977.py:39: FutureWarning: The frame.append method is deprecated and will be removed from pandas in a future version. Use pandas.concat instead.\n",
      "  df_all = df_all.append({'PDB': folder, 'PDB_file': f'{folder_full_path}/{folder}_protein_processed.pdb',\n",
      "/tmp/ipykernel_32402/4082243977.py:39: FutureWarning: The frame.append method is deprecated and will be removed from pandas in a future version. Use pandas.concat instead.\n",
      "  df_all = df_all.append({'PDB': folder, 'PDB_file': f'{folder_full_path}/{folder}_protein_processed.pdb',\n",
      "/tmp/ipykernel_32402/4082243977.py:39: FutureWarning: The frame.append method is deprecated and will be removed from pandas in a future version. Use pandas.concat instead.\n",
      "  df_all = df_all.append({'PDB': folder, 'PDB_file': f'{folder_full_path}/{folder}_protein_processed.pdb',\n",
      "/tmp/ipykernel_32402/4082243977.py:39: FutureWarning: The frame.append method is deprecated and will be removed from pandas in a future version. Use pandas.concat instead.\n",
      "  df_all = df_all.append({'PDB': folder, 'PDB_file': f'{folder_full_path}/{folder}_protein_processed.pdb',\n",
      "/tmp/ipykernel_32402/4082243977.py:39: FutureWarning: The frame.append method is deprecated and will be removed from pandas in a future version. Use pandas.concat instead.\n",
      "  df_all = df_all.append({'PDB': folder, 'PDB_file': f'{folder_full_path}/{folder}_protein_processed.pdb',\n",
      "/tmp/ipykernel_32402/4082243977.py:39: FutureWarning: The frame.append method is deprecated and will be removed from pandas in a future version. Use pandas.concat instead.\n",
      "  df_all = df_all.append({'PDB': folder, 'PDB_file': f'{folder_full_path}/{folder}_protein_processed.pdb',\n",
      "/tmp/ipykernel_32402/4082243977.py:39: FutureWarning: The frame.append method is deprecated and will be removed from pandas in a future version. Use pandas.concat instead.\n",
      "  df_all = df_all.append({'PDB': folder, 'PDB_file': f'{folder_full_path}/{folder}_protein_processed.pdb',\n",
      "/tmp/ipykernel_32402/4082243977.py:39: FutureWarning: The frame.append method is deprecated and will be removed from pandas in a future version. Use pandas.concat instead.\n",
      "  df_all = df_all.append({'PDB': folder, 'PDB_file': f'{folder_full_path}/{folder}_protein_processed.pdb',\n",
      "/tmp/ipykernel_32402/4082243977.py:39: FutureWarning: The frame.append method is deprecated and will be removed from pandas in a future version. Use pandas.concat instead.\n",
      "  df_all = df_all.append({'PDB': folder, 'PDB_file': f'{folder_full_path}/{folder}_protein_processed.pdb',\n",
      "/tmp/ipykernel_32402/4082243977.py:39: FutureWarning: The frame.append method is deprecated and will be removed from pandas in a future version. Use pandas.concat instead.\n",
      "  df_all = df_all.append({'PDB': folder, 'PDB_file': f'{folder_full_path}/{folder}_protein_processed.pdb',\n",
      "/tmp/ipykernel_32402/4082243977.py:39: FutureWarning: The frame.append method is deprecated and will be removed from pandas in a future version. Use pandas.concat instead.\n",
      "  df_all = df_all.append({'PDB': folder, 'PDB_file': f'{folder_full_path}/{folder}_protein_processed.pdb',\n",
      "/tmp/ipykernel_32402/4082243977.py:39: FutureWarning: The frame.append method is deprecated and will be removed from pandas in a future version. Use pandas.concat instead.\n",
      "  df_all = df_all.append({'PDB': folder, 'PDB_file': f'{folder_full_path}/{folder}_protein_processed.pdb',\n",
      "/tmp/ipykernel_32402/4082243977.py:39: FutureWarning: The frame.append method is deprecated and will be removed from pandas in a future version. Use pandas.concat instead.\n",
      "  df_all = df_all.append({'PDB': folder, 'PDB_file': f'{folder_full_path}/{folder}_protein_processed.pdb',\n",
      "/tmp/ipykernel_32402/4082243977.py:39: FutureWarning: The frame.append method is deprecated and will be removed from pandas in a future version. Use pandas.concat instead.\n",
      "  df_all = df_all.append({'PDB': folder, 'PDB_file': f'{folder_full_path}/{folder}_protein_processed.pdb',\n",
      "/tmp/ipykernel_32402/4082243977.py:39: FutureWarning: The frame.append method is deprecated and will be removed from pandas in a future version. Use pandas.concat instead.\n",
      "  df_all = df_all.append({'PDB': folder, 'PDB_file': f'{folder_full_path}/{folder}_protein_processed.pdb',\n",
      "/tmp/ipykernel_32402/4082243977.py:39: FutureWarning: The frame.append method is deprecated and will be removed from pandas in a future version. Use pandas.concat instead.\n",
      "  df_all = df_all.append({'PDB': folder, 'PDB_file': f'{folder_full_path}/{folder}_protein_processed.pdb',\n",
      "/tmp/ipykernel_32402/4082243977.py:39: FutureWarning: The frame.append method is deprecated and will be removed from pandas in a future version. Use pandas.concat instead.\n",
      "  df_all = df_all.append({'PDB': folder, 'PDB_file': f'{folder_full_path}/{folder}_protein_processed.pdb',\n",
      "/tmp/ipykernel_32402/4082243977.py:39: FutureWarning: The frame.append method is deprecated and will be removed from pandas in a future version. Use pandas.concat instead.\n",
      "  df_all = df_all.append({'PDB': folder, 'PDB_file': f'{folder_full_path}/{folder}_protein_processed.pdb',\n",
      "/tmp/ipykernel_32402/4082243977.py:39: FutureWarning: The frame.append method is deprecated and will be removed from pandas in a future version. Use pandas.concat instead.\n",
      "  df_all = df_all.append({'PDB': folder, 'PDB_file': f'{folder_full_path}/{folder}_protein_processed.pdb',\n",
      "/tmp/ipykernel_32402/4082243977.py:39: FutureWarning: The frame.append method is deprecated and will be removed from pandas in a future version. Use pandas.concat instead.\n",
      "  df_all = df_all.append({'PDB': folder, 'PDB_file': f'{folder_full_path}/{folder}_protein_processed.pdb',\n",
      "/tmp/ipykernel_32402/4082243977.py:39: FutureWarning: The frame.append method is deprecated and will be removed from pandas in a future version. Use pandas.concat instead.\n",
      "  df_all = df_all.append({'PDB': folder, 'PDB_file': f'{folder_full_path}/{folder}_protein_processed.pdb',\n",
      "/tmp/ipykernel_32402/4082243977.py:39: FutureWarning: The frame.append method is deprecated and will be removed from pandas in a future version. Use pandas.concat instead.\n",
      "  df_all = df_all.append({'PDB': folder, 'PDB_file': f'{folder_full_path}/{folder}_protein_processed.pdb',\n",
      "/tmp/ipykernel_32402/4082243977.py:39: FutureWarning: The frame.append method is deprecated and will be removed from pandas in a future version. Use pandas.concat instead.\n",
      "  df_all = df_all.append({'PDB': folder, 'PDB_file': f'{folder_full_path}/{folder}_protein_processed.pdb',\n",
      "/tmp/ipykernel_32402/4082243977.py:39: FutureWarning: The frame.append method is deprecated and will be removed from pandas in a future version. Use pandas.concat instead.\n",
      "  df_all = df_all.append({'PDB': folder, 'PDB_file': f'{folder_full_path}/{folder}_protein_processed.pdb',\n",
      "/tmp/ipykernel_32402/4082243977.py:39: FutureWarning: The frame.append method is deprecated and will be removed from pandas in a future version. Use pandas.concat instead.\n",
      "  df_all = df_all.append({'PDB': folder, 'PDB_file': f'{folder_full_path}/{folder}_protein_processed.pdb',\n",
      "/tmp/ipykernel_32402/4082243977.py:39: FutureWarning: The frame.append method is deprecated and will be removed from pandas in a future version. Use pandas.concat instead.\n",
      "  df_all = df_all.append({'PDB': folder, 'PDB_file': f'{folder_full_path}/{folder}_protein_processed.pdb',\n",
      "/tmp/ipykernel_32402/4082243977.py:39: FutureWarning: The frame.append method is deprecated and will be removed from pandas in a future version. Use pandas.concat instead.\n",
      "  df_all = df_all.append({'PDB': folder, 'PDB_file': f'{folder_full_path}/{folder}_protein_processed.pdb',\n",
      "/tmp/ipykernel_32402/4082243977.py:39: FutureWarning: The frame.append method is deprecated and will be removed from pandas in a future version. Use pandas.concat instead.\n",
      "  df_all = df_all.append({'PDB': folder, 'PDB_file': f'{folder_full_path}/{folder}_protein_processed.pdb',\n",
      "/tmp/ipykernel_32402/4082243977.py:39: FutureWarning: The frame.append method is deprecated and will be removed from pandas in a future version. Use pandas.concat instead.\n",
      "  df_all = df_all.append({'PDB': folder, 'PDB_file': f'{folder_full_path}/{folder}_protein_processed.pdb',\n",
      "/tmp/ipykernel_32402/4082243977.py:39: FutureWarning: The frame.append method is deprecated and will be removed from pandas in a future version. Use pandas.concat instead.\n",
      "  df_all = df_all.append({'PDB': folder, 'PDB_file': f'{folder_full_path}/{folder}_protein_processed.pdb',\n",
      "/tmp/ipykernel_32402/4082243977.py:39: FutureWarning: The frame.append method is deprecated and will be removed from pandas in a future version. Use pandas.concat instead.\n",
      "  df_all = df_all.append({'PDB': folder, 'PDB_file': f'{folder_full_path}/{folder}_protein_processed.pdb',\n",
      "/tmp/ipykernel_32402/4082243977.py:39: FutureWarning: The frame.append method is deprecated and will be removed from pandas in a future version. Use pandas.concat instead.\n",
      "  df_all = df_all.append({'PDB': folder, 'PDB_file': f'{folder_full_path}/{folder}_protein_processed.pdb',\n",
      "/tmp/ipykernel_32402/4082243977.py:39: FutureWarning: The frame.append method is deprecated and will be removed from pandas in a future version. Use pandas.concat instead.\n",
      "  df_all = df_all.append({'PDB': folder, 'PDB_file': f'{folder_full_path}/{folder}_protein_processed.pdb',\n",
      "/tmp/ipykernel_32402/4082243977.py:39: FutureWarning: The frame.append method is deprecated and will be removed from pandas in a future version. Use pandas.concat instead.\n",
      "  df_all = df_all.append({'PDB': folder, 'PDB_file': f'{folder_full_path}/{folder}_protein_processed.pdb',\n",
      "/tmp/ipykernel_32402/4082243977.py:39: FutureWarning: The frame.append method is deprecated and will be removed from pandas in a future version. Use pandas.concat instead.\n",
      "  df_all = df_all.append({'PDB': folder, 'PDB_file': f'{folder_full_path}/{folder}_protein_processed.pdb',\n"
     ]
    }
   ],
   "source": [
    "import os\n",
    "folder_path = '/home/t-kaiyuangao/Workspace/DynamicBind/PDBBindData/PDBBind_processed'\n",
    "goal_path = '/home/t-kaiyuangao/Workspace/DynamicBind/PDBBindData/PDBBind_Qbio'\n",
    "folders = os.listdir(folder_path)\n",
    "folders.remove('4jdf')\n",
    "folders.remove('4pox')\n",
    "folders.remove('1qon')\n",
    "folders.remove('5ab1')\n",
    "folders.remove('1a50')\n",
    "import pandas as pd\n",
    "df_all=pd.read_csv('Qbio_dataset_aft.csv')\n",
    "pdbbind_index = {}\n",
    "with open('/home/t-kaiyuangao/Workspace/DynamicBind/PDBBindData/INDEX_general_PL_data.2020', 'r') as f:\n",
    "    # Skip the header lines\n",
    "    for _ in range(6):\n",
    "        next(f)\n",
    "        \n",
    "    # Parse the rest of the lines\n",
    "    for line in f:\n",
    "        # Split the line into columns\n",
    "        columes = line.split()\n",
    "\n",
    "        # Extract the information\n",
    "        pdb_code = columes[0]\n",
    "        ligand_name = columes[7][1:-1] # skip ()\n",
    "        pdbbind_index[pdb_code] = ligand_name\n",
    "\n",
    "for folder in folders:\n",
    "    folder_full_path = os.path.join(goal_path, folder)\n",
    "    if os.path.isdir(folder_full_path):\n",
    "        files = os.listdir(folder_full_path)\n",
    "        if len(files) < 2:\n",
    "            for file in files:\n",
    "                file_path = os.path.join(folder_full_path, file)\n",
    "                os.remove(file_path)\n",
    "            import shutil\n",
    "            shutil.copy(f'{folder_path}/{folder}/{folder}_protein_processed.pdb', folder_full_path)\n",
    "            shutil.copy(f'{folder_path}/{folder}/{folder}_ligand.mol2', folder_full_path)\n",
    "            df_all = df_all.append({'PDB': folder, 'PDB_file': f'{folder_full_path}/{folder}_protein_processed.pdb', \n",
    "                                    'Ligand': pdbbind_index[folder], 'Ligand_file': f'{folder_full_path}/{folder}_ligand.mol2',\n",
    "                                      'BS': None, 'Gen': 0}, ignore_index=True)\n",
    "\n",
    "df_all.to_csv('Qbio_dataset_final.csv', index=False)\n"
   ]
  }
 ],
 "metadata": {
  "kernelspec": {
   "display_name": "py38",
   "language": "python",
   "name": "python3"
  },
  "language_info": {
   "codemirror_mode": {
    "name": "ipython",
    "version": 3
   },
   "file_extension": ".py",
   "mimetype": "text/x-python",
   "name": "python",
   "nbconvert_exporter": "python",
   "pygments_lexer": "ipython3",
   "version": "3.8.18"
  }
 },
 "nbformat": 4,
 "nbformat_minor": 2
}
