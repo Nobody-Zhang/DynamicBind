{
 "cells": [
  {
   "cell_type": "code",
   "execution_count": 17,
   "metadata": {},
   "outputs": [],
   "source": [
    "import pandas as pd\n",
    "import math\n",
    "\n",
    "# Read the CSV file\n",
    "df = pd.read_csv('d3_with_clash_info.csv')\n",
    "df = df[df['group'] == 'valid']\n",
    "\n",
    "# Remove the leading '/' from af2File column and rename it to protein_path\n",
    "df['protein_path'] = df['af2File'].str.lstrip('/')\n",
    "df.drop('af2File', axis=1, inplace=True)\n",
    "\n",
    "# Remove the leading '/' from ligandFile column and rename it to ligand\n",
    "df['ligand'] = df['ligandFile'].str.lstrip('/')\n",
    "df.drop('ligandFile', axis=1, inplace=True)\n",
    "\n",
    "# Calculate the number of chunks\n",
    "num_chunks = math.ceil(len(df) / 100)\n",
    "\n",
    "# Save each chunk of 200 rows with a different filename\n",
    "for i in range(num_chunks):\n",
    "    start_index = i * 100\n",
    "    end_index = min((i + 1) * 100, len(df))\n",
    "    chunk_df = df.iloc[start_index:end_index]\n",
    "    chunk_df[['protein_path', 'ligand']].to_csv(f'valid_pdb_{i}.csv', index=False)\n",
    "\n",
    "\n",
    "# Save the modified dataframe to aft_input.csv\n",
    "# df[['protein_path', 'ligand']].to_csv('valid_pdb.csv', index=False)\n"
   ]
  },
  {
   "cell_type": "code",
   "execution_count": null,
   "metadata": {},
   "outputs": [],
   "source": [
    "from analysis import *\n",
    "df2 = pd.read_csv('result_bkup/complete_affinity_prediction.csv')\n",
    "df2 = df2[df['group'] == 'test']\n",
    "# Remove the leading '/' from af2File column and rename it to protein_path\n",
    "df2['protein_path'] = df2['af2File'].str.lstrip('/')\n",
    "df2.drop('af2File', axis=1, inplace=True)\n",
    "\n",
    "# Remove the leading '/' from ligandFile column and rename it to ligand\n",
    "df2['ligand'] = df2['ligandFile'].str.lstrip('/')\n",
    "df2.drop('ligandFile', axis=1, inplace=True)"
   ]
  },
  {
   "cell_type": "code",
   "execution_count": null,
   "metadata": {},
   "outputs": [],
   "source": [
    "from analysis import *\n",
    "def compute_clash_and_rmsd_impl(x):\n",
    "    if len(x) == 6:\n",
    "        cur_pre, header, pdbFile, af2File, ligandFile, infoFile = x\n",
    "        gap_mask = None\n",
    "    else:\n",
    "        cur_pre, header, pdbFile, af2File, ligandFile, infoFile, gap_mask = x\n",
    "    # if os.path.exists(infoFile):\n",
    "    #     return None\n",
    "    # print(x)\n",
    "    info = []\n",
    "    clash_query_list = []\n",
    "    rank_list = range(1, 41)\n",
    "    for rank in rank_list:\n",
    "        pred_proteinFile = f\"{cur_pre}/{header}_rank{rank}_receptor.pdb\"\n",
    "        # if header in ['diffdock_af2_all', 'diffdock_random1', 'diffdock_small_af2_all']:\n",
    "        if 'crystal' in header and 'diffdock' in header:\n",
    "            pred_proteinFile = pdbFile\n",
    "        elif \"diffdock\" in header:\n",
    "            pred_proteinFile = af2File\n",
    "        pred_ligandFile = f\"{cur_pre}/{header}_rank{rank}_ligand.sdf\"\n",
    "        clash_query_list.append((f'{header}', rank, pred_proteinFile, pred_ligandFile))\n",
    "\n",
    "    ref_mol = Chem.MolFromMolFile(ligandFile)\n",
    "    ref_ligand_coords = ref_mol.GetConformer().GetPositions()\n",
    "\n",
    "    for (conformation, rank, p, l) in clash_query_list:\n",
    "        try:\n",
    "            rmsd = compute_RMSD(Chem.MolFromMolFile(l).GetConformer().GetPositions(),\n",
    "                            ref_ligand_coords)\n",
    "            rmsd_sym = get_symmetry_rmsd(ref_mol, ref_ligand_coords, Chem.MolFromMolFile(l).GetConformer().GetPositions())\n",
    "        except Exception as e:\n",
    "            # print(e, l)\n",
    "            if str(e) == \"Timed out!\":\n",
    "                rmsd_sym = rmsd\n",
    "            else:\n",
    "                # skip_pdb_list.append(entryName)\n",
    "                print(e, \"compute RMSD\")\n",
    "                continue\n",
    "        # info.append([conformation, rank, -1, -1, -1, -1, -1, -1, 0, 0, 0, rmsd_sym, rmsd])\n",
    "        # continue\n",
    "        try:\n",
    "            clashScore, overlap, clash_n, n = compute_side_chain_metrics(p, l, verbose=True)\n",
    "            overlap_mean = overlap.mean() if len(overlap) > 0 else 0\n",
    "        except Exception as e:\n",
    "            print(\"compute side chain metrics error\", p, l)\n",
    "            clashScore = -1.0\n",
    "            overlap_mean = 0\n",
    "            clash_n = n = 0\n",
    "        # protein_rmsd = compute_protein_RMSD(pdbFile, p)\n",
    "        try:\n",
    "            with time_limit(60):\n",
    "                protein_rmsd, pocket_rmsd = compute_protein_RMSD(pdbFile, p, ref_ligand_coords=ref_ligand_coords, gap_mask=gap_mask)\n",
    "            with time_limit(60):\n",
    "                result = compute_lddt(p, pdbFile, need_alignment=False, per_res=None, binding_site=ref_ligand_coords, gap_mask=gap_mask)\n",
    "            lddt = result['lddt']\n",
    "            bs_lddt = result['bs_lddt']\n",
    "        except Exception as e:\n",
    "            print(\"compute_protein_RMSD or lddt error\", e, p, l)\n",
    "            protein_rmsd = pocket_rmsd = -1\n",
    "            lddt = bs_lddt = -1\n",
    "        try:\n",
    "            tmscore = compute_tmscore(p, pdbFile)['tmscore']\n",
    "        except Exception as e:\n",
    "            print(e)\n",
    "            if str(e) == \"Timed out!\":\n",
    "                tmscore = -1\n",
    "            else:\n",
    "                # skip_pdb_list.append(entryName)\n",
    "                print(e, \"compute tmscore\")\n",
    "                continue\n",
    "        info.append([conformation, rank, protein_rmsd, pocket_rmsd, clashScore, lddt, bs_lddt, tmscore, overlap_mean, clash_n, n, rmsd_sym, rmsd])\n",
    "\n",
    "    info = pd.DataFrame(info, columns=['conformation', 'rank', 'protein_rmsd', 'pocket_rmsd',\n",
    "                                       'clashScore', 'lddt', 'bs_lddt', 'tmscore', 'overlap_mean', 'clash_n', 'n', 'rmsd', 'rmsd_unsym'])\n",
    "    info.to_csv(infoFile)"
   ]
  },
  {
   "cell_type": "code",
   "execution_count": null,
   "metadata": {},
   "outputs": [],
   "source": [
    "import analysis\n",
    "import pandas as pd\n",
    "df = pd.read_csv('eval_metrics.csv')\n",
    "for index, row in df.iterrows():\n",
    "    ori_lig = row['referligand']\n",
    "    infer_rk1 = row['resultligand']\n",
    "    rmsd = analysis.compute_RMSD(Chem.MolFromMolFile(ori_lig).GetConformer().GetPositions(),\n",
    "                                Chem.MolFromMolFile(infer_rk1).GetConformer().GetPositions())\n",
    "    rmsd_sym = analysis.get_symmetry_rmsd(Chem.MolFromMolFile(ori_lig), Chem.MolFromMolFile(ori_lig).GetConformer().GetPositions()\n",
    "                                          , Chem.MolFromMolFile(infer_rk1).GetConformer().GetPositions())\n",
    "    print(rmsd, rmsd_sym)"
   ]
  },
  {
   "cell_type": "code",
   "execution_count": 12,
   "metadata": {},
   "outputs": [],
   "source": [
    "from rdkit import Chem\n",
    "from rdkit.Chem import rdMolAlign\n",
    "\n",
    "def compute_rmsd(mol1, mol2):\n",
    "    # 将分子对齐\n",
    "    rdMolAlign.AlignMol(mol1, mol2)\n",
    "\n",
    "    # 计算均方根误差\n",
    "    rmsd = rdMolAlign.GetBestRMS(mol1, mol2)\n",
    "\n",
    "    return rmsd\n",
    "ori_lig = 'results/test/index0_idx_0/5h22.sdf'\n",
    "infer_rk1 = 'results/test/index0_idx_0/rank1_ligand_lddt0.66_affinity7.63.sdf'"
   ]
  },
  {
   "cell_type": "code",
   "execution_count": 13,
   "metadata": {},
   "outputs": [
    {
     "data": {
      "image/png": "[encoded data removed]",
      "text/plain": [
       "<rdkit.Chem.rdchem.Mol at 0x7fdaed2f1970>"
      ]
     },
     "execution_count": 13,
     "metadata": {},
     "output_type": "execute_result"
    }
   ],
   "source": [
    "Chem.MolFromMolFile(infer_rk1)"
   ]
  },
  {
   "cell_type": "code",
   "execution_count": 14,
   "metadata": {},
   "outputs": [
    {
     "data": {
      "image/png": "[encoded data removed]",
      "text/plain": [
       "<rdkit.Chem.rdchem.Mol at 0x7fdaed2f1f20>"
      ]
     },
     "execution_count": 14,
     "metadata": {},
     "output_type": "execute_result"
    }
   ],
   "source": [
    "Chem.MolFromMolFile(ori_lig)"
   ]
  },
  {
   "cell_type": "code",
   "execution_count": 16,
   "metadata": {},
   "outputs": [
    {
     "name": "stdout",
     "output_type": "stream",
     "text": [
      "1.7234362411303121\n",
      "均方根误差：1.1202891990772899\n"
     ]
    }
   ],
   "source": [
    "import analysis\n",
    "print(analysis.compute_RMSD(Chem.MolFromMolFile(infer_rk1).GetConformer().GetPositions(),\n",
    "                      Chem.MolFromMolFile(ori_lig).GetConformer().GetPositions()))\n",
    "\n",
    "mol1 = Chem.MolFromMolFile(ori_lig)\n",
    "mol2 = Chem.MolFromMolFile(infer_rk1)\n",
    "\n",
    "rmsd = compute_rmsd(mol1, mol2)\n",
    "print(f\"均方根误差：{rmsd}\")\n"
   ]
  },
  {
   "cell_type": "code",
   "execution_count": null,
   "metadata": {},
   "outputs": [],
   "source": []
  }
 ],
 "metadata": {
  "kernelspec": {
   "display_name": "py38",
   "language": "python",
   "name": "python3"
  },
  "language_info": {
   "codemirror_mode": {
    "name": "ipython",
    "version": 3
   },
   "file_extension": ".py",
   "mimetype": "text/x-python",
   "name": "python",
   "nbconvert_exporter": "python",
   "pygments_lexer": "ipython3",
   "version": "3.8.18"
  }
 },
 "nbformat": 4,
 "nbformat_minor": 2
}
