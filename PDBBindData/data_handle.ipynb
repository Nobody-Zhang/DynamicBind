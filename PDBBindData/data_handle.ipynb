{
 "cells": [
  {
   "cell_type": "code",
   "execution_count": 11,
   "metadata": {},
   "outputs": [
    {
     "name": "stderr",
     "output_type": "stream",
     "text": [
      "[14:33:58] 4ew3_ligand: warning - charged amidine and isFixed atom.\n",
      "[14:33:58] Can't kekulize mol.  Unkekulized atoms: 0 26\n",
      "[14:33:58] sanitise [14:33:58] 2q2n_ligand: [14:33:59] 2it4_ligand: Warning - no explicit hydrogens in mol2 file but needed for formal charge estimation.\n",
      "[14:34:00] 6db4_ligand: Warning - no explicit hydrogens in mol2 file but needed for formal charge estimation.\n"
     ]
    },
    {
     "name": "stderr",
     "output_type": "stream",
     "text": [
      "[14:34:01] Can't kekulize mol.  Unkekulized atoms: 3 4 19 20 22\n",
      "[14:34:01] sanitise [14:34:01] 4kcx_ligand: [14:34:02] Can't kekulize mol.  Unkekulized atoms: 9 10 11 13 14 15 16 17 18\n",
      "[14:34:02] sanitise [14:34:02] 1nu1_ligand: [14:34:03] WARNING: not removing hydrogen atom with neighbor that has non-tetrahedral stereochemistry\n",
      "[14:34:03] WARNING: not removing hydrogen atom with neighbor that has non-tetrahedral stereochemistry\n",
      "[14:34:03] WARNING: not removing hydrogen atom with neighbor that has non-tetrahedral stereochemistry\n",
      "[14:34:03] WARNING: not removing hydrogen atom with neighbor that has non-tetrahedral stereochemistry\n",
      "[14:34:03] Can't kekulize mol.  Unkekulized atoms: 9 10 27 30 32\n",
      "[14:34:03] sanitise [14:34:03] 5wjj_ligand: [14:34:03] Can't kekulize mol.  Unkekulized atoms: 20 21 22 23 24\n",
      "[14:34:03] sanitise [14:34:03] 5lwe_ligand: [14:34:04] Explicit valence for atom # 7 C, 5, is greater than permitted\n",
      "[14:34:04] sanitise [14:34:04] 6pgx_ligand: [14:34:05] WARNING: not removing hydrogen atom with neighbor that has non-tetrahedral stereochemistry\n",
      "[14:34:05] WARNING: not removing hydrogen atom with neighbor that has non-tetrahedral stereochemistry\n",
      "[14:34:05] WARNING: not removing hydrogen atom with neighbor that has non-tetrahedral stereochemistry\n",
      "[14:34:05] WARNING: not removing hydrogen atom with neighbor that has non-tetrahedral stereochemistry\n",
      "[14:34:06] 4ew2_ligand: warning - charged amidine and isFixed atom.\n",
      "[14:34:07] Unusual charge on atom 25 number of radical electrons set to zero\n",
      "[14:34:08] 1o4n_ligand: Warning - no explicit hydrogens in mol2 file but needed for formal charge estimation.\n",
      "[14:34:09] WARNING: not removing hydrogen atom with neighbor that has non-tetrahedral stereochemistry\n",
      "[14:34:09] WARNING: not removing hydrogen atom with neighbor that has non-tetrahedral stereochemistry\n",
      "[14:34:09] WARNING: not removing hydrogen atom with neighbor that has non-tetrahedral stereochemistry\n",
      "[14:34:09] WARNING: not removing hydrogen atom with neighbor that has non-tetrahedral stereochemistry\n",
      "[14:34:09] WARNING: not removing hydrogen atom with neighbor that has non-tetrahedral stereochemistry\n",
      "[14:34:10] Explicit valence for atom # 15 C, 5, is greater than permitted\n",
      "[14:34:10] sanitise [14:34:10] 4i60_ligand: [14:34:11] 6gon_ligand: Warning - no explicit hydrogens in mol2 file but needed for formal charge estimation.\n",
      "[14:34:12] Unusual charge on atom 25 number of radical electrons set to zero\n",
      "[14:34:12] 6da4_ligand: Warning - no explicit hydrogens in mol2 file but needed for formal charge estimation.\n",
      "[14:34:13] Can't kekulize mol.  Unkekulized atoms: 0 2 3 4 5\n",
      "[14:34:13] sanitise [14:34:13] 1mue_ligand: [14:34:13] Can't kekulize mol.  Unkekulized atoms: 3 4 19 20 22\n",
      "[14:34:13] sanitise [14:34:13] 6gu6_ligand: [14:34:14] 2o1c_ligand: Warning - no explicit hydrogens in mol2 file but needed for formal charge estimation.\n",
      "[14:34:14] WARNING: not removing hydrogen atom with neighbor that has non-tetrahedral stereochemistry\n",
      "[14:34:14] WARNING: not removing hydrogen atom with neighbor that has non-tetrahedral stereochemistry\n",
      "[14:34:14] 2rk7_ligand: Warning - no explicit hydrogens in mol2 file but needed for formal charge estimation.\n",
      "[14:34:14] 6pvu_ligand: Warning - no explicit hydrogens in mol2 file but needed for formal charge estimation.\n",
      "[14:34:15] Unusual charge on atom 13 number of radical electrons set to zero\n",
      "[14:34:18] 5jim_ligand: Warning - no explicit hydrogens in mol2 file but needed for formal charge estimation.\n",
      "[14:34:18] Unusual charge on atom 25 number of radical electrons set to zero\n",
      "[14:34:19] 2rk8_ligand: Warning - no explicit hydrogens in mol2 file but needed for formal charge estimation.\n",
      "[14:34:19] Unusual charge on atom 41 number of radical electrons set to zero\n",
      "[14:34:20] Unusual charge on atom 25 number of radical electrons set to zero\n",
      "[14:34:21] Can't kekulize mol.  Unkekulized atoms: 38 39 40 41 42\n",
      "[14:34:21] sanitise [14:34:21] 5ohj_ligand: [14:34:23] 2hwg_ligand: Warning - no explicit hydrogens in mol2 file but needed for formal charge estimation.\n",
      "[14:34:24] 5jid_ligand: Warning - no explicit hydrogens in mol2 file but needed for formal charge estimation.\n",
      "[14:34:24] 1t5a_ligand: Warning - no explicit hydrogens in mol2 file but needed for formal charge estimation.\n",
      "[14:34:25] Can't kekulize mol.  Unkekulized atoms: 33 34 35 37 38\n",
      "[14:34:25] sanitise [14:34:25] 3v9b_ligand: [14:34:25] 2dua_ligand: Warning - no explicit hydrogens in mol2 file but needed for formal charge estimation.\n",
      "[14:34:25] 3c14_ligand: Warning - no explicit hydrogens in mol2 file but needed for formal charge estimation.\n",
      "[14:34:26] Can't kekulize mol.  Unkekulized atoms: 0 2 3 6 7 8 9 10 11\n",
      "[14:34:26] sanitise [14:34:26] 5yjy_ligand: [14:34:26] Unusual charge on atom 33 number of radical electrons set to zero\n",
      "[14:34:26] 3t01_ligand: Warning - no explicit hydrogens in mol2 file but needed for formal charge estimation.\n",
      "[14:34:27] Unusual charge on atom 30 number of radical electrons set to zero\n",
      "[14:34:29] 4u5t_ligand: Warning - no explicit hydrogens in mol2 file but needed for formal charge estimation.\n",
      "[14:34:29] 1w70_ligand: Warning - no explicit hydrogens in mol2 file but needed for formal charge estimation.\n",
      "[14:34:29] Can't kekulize mol.  Unkekulized atoms: 2 3 4 5 6\n",
      "[14:34:29] sanitise [14:34:29] 1hyz_ligand: [14:34:31] WARNING: not removing hydrogen atom with neighbor that has non-tetrahedral stereochemistry\n",
      "[14:34:31] WARNING: not removing hydrogen atom with neighbor that has non-tetrahedral stereochemistry\n",
      "[14:34:31] WARNING: not removing hydrogen atom with neighbor that has non-tetrahedral stereochemistry\n",
      "[14:34:31] WARNING: not removing hydrogen atom with neighbor that has non-tetrahedral stereochemistry\n",
      "[14:34:31] WARNING: not removing hydrogen atom with neighbor that has non-tetrahedral stereochemistry\n",
      "[14:34:31] Can't kekulize mol.  Unkekulized atoms: 0 1 2 3 5\n",
      "[14:34:31] sanitise [14:34:31] 1ksn_ligand: [14:34:32] 6rsa_ligand: Warning - no explicit hydrogens in mol2 file but needed for formal charge estimation.\n",
      "[14:34:32] Unusual charge on atom 20 number of radical electrons set to zero\n",
      "[14:34:33] 1nki_ligand: Warning - no explicit hydrogens in mol2 file but needed for formal charge estimation.\n",
      "[14:34:33] Can't kekulize mol.  Unkekulized atoms: 2 4 6 7 8 9 10 11 12\n",
      "[14:34:33] sanitise [14:34:33] 4kw6_ligand: [14:34:33] Can't kekulize mol.  Unkekulized atoms: 3 4 5 15 17\n",
      "[14:34:33] sanitise [14:34:33] 5tyk_ligand: [14:34:35] Unusual charge on atom 22 number of radical electrons set to zero\n",
      "[14:34:35] 1bq4_ligand: Warning - no explicit hydrogens in mol2 file but needed for formal charge estimation.\n",
      "[14:34:35] 2j7w_ligand: Warning - no explicit hydrogens in mol2 file but needed for formal charge estimation.\n",
      "[14:34:35] Can't kekulize mol.  Unkekulized atoms: 0 1 3 4 5 6 8 9 10\n",
      "[14:34:35] sanitise [14:34:35] 3lp2_ligand: [14:34:36] Can't kekulize mol.  Unkekulized atoms: 0 2 3 6 7 8 9 10 11\n",
      "[14:34:36] sanitise [14:34:36] 2vr0_ligand: [14:34:37] WARNING: not removing hydrogen atom with neighbor that has non-tetrahedral stereochemistry\n",
      "[14:34:37] WARNING: not removing hydrogen atom with neighbor that has non-tetrahedral stereochemistry\n",
      "[14:34:37] 6mny_ligand: Warning - no explicit hydrogens in mol2 file but needed for formal charge estimation.\n",
      "[14:34:38] 4lil_ligand: Warning - no explicit hydrogens in mol2 file but needed for formal charge estimation.\n",
      "[14:34:39] Can't kekulize mol.  Unkekulized atoms: 0 1 3 4 5\n",
      "[14:34:39] sanitise [14:34:39] 1sl3_ligand: [14:34:41] 1ao8_ligand: warning - charged amidine and isFixed atom.\n",
      "[14:34:41] Can't kekulize mol.  Unkekulized atoms: 31 32 33 34 35\n",
      "[14:34:41] sanitise [14:34:41] 2fm5_ligand: [14:34:42] 6goo_ligand: Warning - no explicit hydrogens in mol2 file but needed for formal charge estimation.\n",
      "[14:34:42] 3tvl_ligand: Warning - no explicit hydrogens in mol2 file but needed for formal charge estimation.\n",
      "[14:34:42] Unusual charge on atom 25 number of radical electrons set to zero\n",
      "[14:34:43] Can't kekulize mol.  Unkekulized atoms: 0 3 4 6 7 8 9 10 11\n",
      "[14:34:43] sanitise [14:34:43] 3lp1_ligand: [14:34:45] 3mof_ligand: Warning - no explicit hydrogens in mol2 file but needed for formal charge estimation.\n",
      "[14:34:45] Unusual charge on atom 24 number of radical electrons set to zero\n",
      "[14:34:46] Explicit valence for atom # 18 C, 5, is greater than permitted\n",
      "[14:34:46] sanitise [14:34:46] 3whw_ligand: [14:34:46] 6dud_ligand: Warning - no explicit hydrogens in mol2 file but needed for formal charge estimation.\n"
     ]
    }
   ],
   "source": [
    "import pandas as pd\n",
    "from rdkit import Chem\n",
    "import os\n",
    "\n",
    "folder_path = \"PDBBind_processed\"\n",
    "folder_names = [name for name in os.listdir(folder_path) if os.path.isdir(os.path.join(folder_path, name))]\n",
    "\n",
    "folder_names.remove('1a50') # for some reason, this directory is empty\n",
    "\n",
    "data = []\n",
    "for folder_name in folder_names:\n",
    "    mol_path = os.path.join(os.path.join(folder_path, folder_name), f'{folder_name}_ligand.mol2')\n",
    "    try:\n",
    "        mol = Chem.MolFromMol2File(mol_path)\n",
    "    except:\n",
    "        print(f\"Error reading file: {mol_path}\")\n",
    "        continue\n",
    "    \n",
    "    if mol is not None:\n",
    "        smiles = Chem.MolToSmiles(mol)\n",
    "        data.append([folder_name, smiles])\n",
    "\n",
    "df = pd.DataFrame(data, columns=['folder_name', 'smiles'])\n",
    "df.to_csv('res.csv', index=False)\n",
    "\n",
    "\n"
   ]
  },
  {
   "cell_type": "code",
   "execution_count": 16,
   "metadata": {},
   "outputs": [
    {
     "name": "stderr",
     "output_type": "stream",
     "text": [
      "100%|██████████| 19097/19097 [00:03<00:00, 5300.53it/s]\n"
     ]
    }
   ],
   "source": [
    "import concurrent.futures\n",
    "import requests\n",
    "from tqdm import tqdm\n",
    "\n",
    "# Define a function to download CIF file\n",
    "def download_cif(folder_name, cif_url, cif_path):\n",
    "    response = requests.get(cif_url)\n",
    "    if response.status_code == 200:\n",
    "        with open(cif_path, 'wb') as f:\n",
    "            f.write(response.content)\n",
    "    else:\n",
    "        print(f\"Error downloading CIF file for {folder_name}\")\n",
    "\n",
    "# Create a thread pool executor\n",
    "executor = concurrent.futures.ThreadPoolExecutor()\n",
    "\n",
    "# Iterate over each row in the DataFrame\n",
    "for index, row in tqdm(df.iterrows(), total=len(df)):\n",
    "    folder_name = row['folder_name']\n",
    "    smiles = row['smiles']\n",
    "    \n",
    "    # Download the CIF file if it exists\n",
    "    cif_url = f\"https://files.rcsb.org/download/{folder_name}.cif\"\n",
    "    cif_path = f\".tmp/{folder_name}.cif\"\n",
    "    if not os.path.exists(cif_path):\n",
    "        # Submit the download task to the thread pool\n",
    "        executor.submit(download_cif, folder_name, cif_url, cif_path)\n",
    "\n",
    "# Shutdown the thread pool and wait for all tasks to complete\n",
    "executor.shutdown(wait=True)\n"
   ]
  },
  {
   "cell_type": "code",
   "execution_count": 2,
   "metadata": {},
   "outputs": [
    {
     "data": {
      "text/plain": [
       "0.21222685675154082"
      ]
     },
     "execution_count": 2,
     "metadata": {},
     "output_type": "execute_result"
    }
   ],
   "source": [
    "import os\n",
    "\n",
    "folder_path = \"PDBBind_rcsb\"\n",
    "folder_names = [name for name in os.listdir(folder_path) if os.path.isdir(os.path.join(folder_path, name))]\n",
    "\n",
    "folders_with_more_than_two_files = 0\n",
    "folders_with_two_files = 0\n",
    "\n",
    "for folder_name in folder_names:\n",
    "    folder_files = os.listdir(os.path.join(folder_path, folder_name))\n",
    "    if len(folder_files) > 2:\n",
    "        folders_with_more_than_two_files += 1\n",
    "    elif len(folder_files) == 2:\n",
    "        folders_with_two_files += 1\n",
    "\n",
    "ratio = folders_with_more_than_two_files / (folders_with_two_files + folders_with_more_than_two_files)\n",
    "\n",
    "ratio\n"
   ]
  },
  {
   "cell_type": "code",
   "execution_count": 4,
   "metadata": {},
   "outputs": [
    {
     "data": {
      "text/plain": [
       "16063"
      ]
     },
     "execution_count": 4,
     "metadata": {},
     "output_type": "execute_result"
    }
   ],
   "source": [
    "folders_with_two_files + folders_with_more_than_two_files"
   ]
  },
  {
   "cell_type": "code",
   "execution_count": 3,
   "metadata": {},
   "outputs": [
    {
     "data": {
      "text/plain": [
       "16063"
      ]
     },
     "execution_count": 3,
     "metadata": {},
     "output_type": "execute_result"
    }
   ],
   "source": [
    "len(folder_names)"
   ]
  },
  {
   "cell_type": "code",
   "execution_count": 29,
   "metadata": {},
   "outputs": [
    {
     "ename": "ArgumentError",
     "evalue": "Python argument types in\n    rdkit.Chem.rdmolfiles.MolToMolFile(list, str)\ndid not match C++ signature:\n    MolToMolFile(RDKit::ROMol mol, std::string filename, bool includeStereo=True, int confId=-1, bool kekulize=True, bool forceV3000=False)",
     "output_type": "error",
     "traceback": [
      "\u001b[0;31m---------------------------------------------------------------------------\u001b[0m",
      "\u001b[0;31mArgumentError\u001b[0m                             Traceback (most recent call last)",
      "Cell \u001b[0;32mIn[29], line 12\u001b[0m\n\u001b[1;32m      9\u001b[0m ligand \u001b[38;5;241m=\u001b[39m [atom \u001b[38;5;28;01mfor\u001b[39;00m atom \u001b[38;5;129;01min\u001b[39;00m mol\u001b[38;5;241m.\u001b[39mGetAtoms() \u001b[38;5;28;01mif\u001b[39;00m atom\u001b[38;5;241m.\u001b[39mGetPDBResidueInfo()\u001b[38;5;241m.\u001b[39mGetResidueName() \u001b[38;5;241m==\u001b[39m \u001b[38;5;124m'\u001b[39m\u001b[38;5;124mDAN\u001b[39m\u001b[38;5;124m'\u001b[39m]\n\u001b[1;32m     11\u001b[0m \u001b[38;5;66;03m# Save the ligand as an SDF file\u001b[39;00m\n\u001b[0;32m---> 12\u001b[0m \u001b[43mrdmolfiles\u001b[49m\u001b[38;5;241;43m.\u001b[39;49m\u001b[43mMolToMolFile\u001b[49m\u001b[43m(\u001b[49m\u001b[43mligand\u001b[49m\u001b[43m,\u001b[49m\u001b[43m \u001b[49m\u001b[38;5;124;43m'\u001b[39;49m\u001b[38;5;124;43mligand.sdf\u001b[39;49m\u001b[38;5;124;43m'\u001b[39;49m\u001b[43m)\u001b[49m\n",
      "\u001b[0;31mArgumentError\u001b[0m: Python argument types in\n    rdkit.Chem.rdmolfiles.MolToMolFile(list, str)\ndid not match C++ signature:\n    MolToMolFile(RDKit::ROMol mol, std::string filename, bool includeStereo=True, int confId=-1, bool kekulize=True, bool forceV3000=False)"
     ]
    }
   ],
   "source": [
    "from rdkit import Chem\n",
    "from rdkit.Chem import rdmolfiles\n",
    "\n",
    "\n",
    "# 从 PDB 文件创建分子\n",
    "mol = Chem.MolFromPDBFile('6ckl.pdb')\n",
    "\n",
    "# 提取配体\n",
    "ligand = [atom for atom in mol.GetAtoms() if atom.GetPDBResidueInfo().GetResidueName() == 'DAN']\n",
    "\n",
    "# Save the ligand as an SDF file\n",
    "rdmolfiles.MolToMolFile(ligand, 'ligand.sdf')\n"
   ]
  },
  {
   "cell_type": "code",
   "execution_count": 24,
   "metadata": {},
   "outputs": [
    {
     "data": {
      "text/plain": [
       "False"
      ]
     },
     "execution_count": 24,
     "metadata": {},
     "output_type": "execute_result"
    }
   ],
   "source": [
    "import re\n",
    "import requests\n",
    "\n",
    "sequence_url = \"https://www.rcsb.org/annotations/2uw8\"\n",
    "resp_seq = requests.get(sequence_url)\n",
    "# The annotations website guarantees that there is only protein information\n",
    "# print(resp_seq.text)\n",
    "\n",
    "# FILEPATH: /home/t-kaiyuangao/Workspace/DynamicBind/PDBBindData/data_handle.ipynb\n",
    "import re\n",
    "\n",
    "pattern = re.compile(r'\\[auth')\n",
    "matches = pattern.finditer(resp_seq.text)\n",
    "\n",
    "positions = [match.start() for match in matches]\n",
    "# positions\n",
    "\n",
    "positions == []\n",
    "\n",
    "# if pattern:\n",
    "#     # print(pattern.group(1)[1:])\n",
    "# # if pattern:\n",
    "#     print(pattern[0])"
   ]
  },
  {
   "cell_type": "code",
   "execution_count": 25,
   "metadata": {},
   "outputs": [
    {
     "name": "stdout",
     "output_type": "stream",
     "text": [
      "B\n",
      "B\n",
      "B\n"
     ]
    }
   ],
   "source": [
    "for _ in positions:\n",
    "    print(resp_seq.text[_-2])"
   ]
  },
  {
   "cell_type": "code",
   "execution_count": null,
   "metadata": {},
   "outputs": [],
   "source": []
  }
 ],
 "metadata": {
  "kernelspec": {
   "display_name": "py38",
   "language": "python",
   "name": "python3"
  },
  "language_info": {
   "codemirror_mode": {
    "name": "ipython",
    "version": 3
   },
   "file_extension": ".py",
   "mimetype": "text/x-python",
   "name": "python",
   "nbconvert_exporter": "python",
   "pygments_lexer": "ipython3",
   "version": "3.8.18"
  }
 },
 "nbformat": 4,
 "nbformat_minor": 2
}
